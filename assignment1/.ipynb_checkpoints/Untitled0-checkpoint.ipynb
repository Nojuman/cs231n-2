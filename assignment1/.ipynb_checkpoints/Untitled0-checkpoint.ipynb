{
 "metadata": {
  "name": "",
  "signature": "sha256:26e6a7fd604424229add7d99f0276e1dd2e30b29ee81ae22e209717aebe4bab0"
 },
 "nbformat": 3,
 "nbformat_minor": 0,
 "worksheets": []
}